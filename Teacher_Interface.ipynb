{
 "cells": [
  {
   "cell_type": "code",
   "execution_count": 1,
   "metadata": {},
   "outputs": [
    {
     "name": "stdout",
     "output_type": "stream",
     "text": [
      "importing Jupyter notebook from Add_question.ipynb\n"
     ]
    },
    {
     "ename": "ModuleNotFoundError",
     "evalue": "No module named 'mysql'",
     "output_type": "error",
     "traceback": [
      "\u001b[1;31m---------------------------------------------------------------------------\u001b[0m",
      "\u001b[1;31mModuleNotFoundError\u001b[0m                       Traceback (most recent call last)",
      "\u001b[1;32m<ipython-input-1-e5bf5b80a9b0>\u001b[0m in \u001b[0;36m<module>\u001b[1;34m\u001b[0m\n\u001b[0;32m      4\u001b[0m \u001b[1;32mimport\u001b[0m \u001b[0mtkinter\u001b[0m \u001b[1;32mas\u001b[0m \u001b[0mtk\u001b[0m\u001b[1;33m\u001b[0m\u001b[1;33m\u001b[0m\u001b[0m\n\u001b[0;32m      5\u001b[0m \u001b[1;32mimport\u001b[0m \u001b[0mPIL\u001b[0m\u001b[1;33m\u001b[0m\u001b[1;33m\u001b[0m\u001b[0m\n\u001b[1;32m----> 6\u001b[1;33m \u001b[1;32mimport\u001b[0m \u001b[0mAdd_question\u001b[0m\u001b[1;33m\u001b[0m\u001b[1;33m\u001b[0m\u001b[0m\n\u001b[0m\u001b[0;32m      7\u001b[0m \u001b[1;32mimport\u001b[0m \u001b[0mTest\u001b[0m\u001b[1;33m\u001b[0m\u001b[1;33m\u001b[0m\u001b[0m\n\u001b[0;32m      8\u001b[0m \u001b[1;32mimport\u001b[0m \u001b[0mAdd_Answer\u001b[0m\u001b[1;33m\u001b[0m\u001b[1;33m\u001b[0m\u001b[0m\n",
      "\u001b[1;32m~\\anaconda3\\envs\\gpu\\lib\\site-packages\\import_ipynb.py\u001b[0m in \u001b[0;36mload_module\u001b[1;34m(self, fullname)\u001b[0m\n\u001b[0;32m     59\u001b[0m                 \u001b[0mcode\u001b[0m \u001b[1;33m=\u001b[0m \u001b[0mself\u001b[0m\u001b[1;33m.\u001b[0m\u001b[0mshell\u001b[0m\u001b[1;33m.\u001b[0m\u001b[0minput_transformer_manager\u001b[0m\u001b[1;33m.\u001b[0m\u001b[0mtransform_cell\u001b[0m\u001b[1;33m(\u001b[0m\u001b[0mcell\u001b[0m\u001b[1;33m.\u001b[0m\u001b[0msource\u001b[0m\u001b[1;33m)\u001b[0m\u001b[1;33m\u001b[0m\u001b[1;33m\u001b[0m\u001b[0m\n\u001b[0;32m     60\u001b[0m                 \u001b[1;31m# run the code in themodule\u001b[0m\u001b[1;33m\u001b[0m\u001b[1;33m\u001b[0m\u001b[1;33m\u001b[0m\u001b[0m\n\u001b[1;32m---> 61\u001b[1;33m                 \u001b[0mexec\u001b[0m\u001b[1;33m(\u001b[0m\u001b[0mcode\u001b[0m\u001b[1;33m,\u001b[0m \u001b[0mmod\u001b[0m\u001b[1;33m.\u001b[0m\u001b[0m__dict__\u001b[0m\u001b[1;33m)\u001b[0m\u001b[1;33m\u001b[0m\u001b[1;33m\u001b[0m\u001b[0m\n\u001b[0m\u001b[0;32m     62\u001b[0m         \u001b[1;32mfinally\u001b[0m\u001b[1;33m:\u001b[0m\u001b[1;33m\u001b[0m\u001b[1;33m\u001b[0m\u001b[0m\n\u001b[0;32m     63\u001b[0m             \u001b[0mself\u001b[0m\u001b[1;33m.\u001b[0m\u001b[0mshell\u001b[0m\u001b[1;33m.\u001b[0m\u001b[0muser_ns\u001b[0m \u001b[1;33m=\u001b[0m \u001b[0msave_user_ns\u001b[0m\u001b[1;33m\u001b[0m\u001b[1;33m\u001b[0m\u001b[0m\n",
      "\u001b[1;32m~\\Desktop\\Project_2\\Project\\Add_question.ipynb\u001b[0m in \u001b[0;36m<module>\u001b[1;34m\u001b[0m\n",
      "\u001b[1;31mModuleNotFoundError\u001b[0m: No module named 'mysql'"
     ]
    }
   ],
   "source": [
    "from tkinter import *\n",
    "import import_ipynb\n",
    "import PyPDF2\n",
    "import tkinter as tk\n",
    "import PIL\n",
    "import Add_question\n",
    "import Test\n",
    "import Add_Answer\n",
    "import Check_Paper\n",
    "from PIL import ImageTk\n",
    "from PIL import Image\n",
    "import datetime\n",
    "import sqlite3\n",
    "from tkinter import messagebox\n",
    "\n",
    "\n",
    "import mysql.connector\n",
    "\n",
    "\n",
    "mydb = mysql.connector.connect(\n",
    "  host=\"localhost\",\n",
    "  user=\"root\",\n",
    "  password=\"\",\n",
    "  database=\"data\"\n",
    ")\n",
    "mycursor = mydb.cursor()\n",
    "\n",
    "\n",
    "\n",
    "\n",
    "\n",
    "\n",
    "\n",
    "\n",
    "image = Image.open('Unity Loss.gif')\n",
    "image = image.resize((125, 100), Image.ANTIALIAS)\n",
    "\n",
    "\n",
    "class TeacherI(Toplevel):\n",
    "    def __init__(self,t_id):\n",
    "        Toplevel.__init__(self)\n",
    "        self.geometry(\"650x650+500+100\")\n",
    "        self.title(\"Teacher Interface\")\n",
    "        self.resizable(False,False)\n",
    "        \n",
    "        \n",
    "        #Frames\n",
    "        self.top = Frame(self, height=150, bg='white')\n",
    "        self.top.pack(fill=X)\n",
    "        self.bottomFrame = Frame(self, height=600, bg='#57a0d3')\n",
    "        self.bottomFrame.pack(fill=X)\n",
    "\n",
    "        #Heading, image and date\n",
    "        self.top_image= ImageTk.PhotoImage(image)\n",
    "        self.top_image_lbl=tk.Label(self.top,image=self.top_image,bg='white')\n",
    "        self.top_image_lbl.place(x=120,y=10)\n",
    "        self.heading=Label(self.top,text='Teacher',font='arial 15 bold',fg='black',bg='white')\n",
    "        self.heading.place(x=330,y=60)\n",
    "        \n",
    "        #\n",
    "         #labels and entries\n",
    "        button=Button(self.bottomFrame,text='  Add Question ',command=lambda:self.addQs(t_id))\n",
    "        button.place(x=150,y=100)\n",
    "        self.lift()\n",
    "        button1=Button(self.bottomFrame,text='    Add Answer  ',command=lambda:self.addAn(t_id))\n",
    "        button1.place(x=250,y=200)\n",
    "        self.lift()\n",
    "        button2=Button(self.bottomFrame,text='  Check Answers ',command=lambda:self.CheckAn(t_id))\n",
    "        button2.place(x=370,y=300)\n",
    "        self.lift()\n",
    "        button3=Button(self.bottomFrame,text='      Create Test     ')#,command=lambda:self.Test(t_id))\n",
    "        button3.place(x=480,y=400)\n",
    "        self.lift()\n",
    "        \n",
    "    def addQs(self,t_id):\n",
    "        people=Add_question.AddQ(t_id)    \n",
    "    def addAn(self,t_id):\n",
    "        people1=Add_Answer.AddA(t_id)  \n",
    "    def CheckAn(self,t_id):\n",
    "        \n",
    "        people3=Check_Paper.Check(t_id)\n",
    "    def Test(self,t_id):\n",
    "        \n",
    "        people4=Test.Testing(t_id)\n",
    "        \n",
    "        \n"
   ]
  },
  {
   "cell_type": "code",
   "execution_count": null,
   "metadata": {},
   "outputs": [],
   "source": []
  }
 ],
 "metadata": {
  "kernelspec": {
   "display_name": "Python 3",
   "language": "python",
   "name": "python3"
  },
  "language_info": {
   "codemirror_mode": {
    "name": "ipython",
    "version": 3
   },
   "file_extension": ".py",
   "mimetype": "text/x-python",
   "name": "python",
   "nbconvert_exporter": "python",
   "pygments_lexer": "ipython3",
   "version": "3.8.8"
  }
 },
 "nbformat": 4,
 "nbformat_minor": 4
}
