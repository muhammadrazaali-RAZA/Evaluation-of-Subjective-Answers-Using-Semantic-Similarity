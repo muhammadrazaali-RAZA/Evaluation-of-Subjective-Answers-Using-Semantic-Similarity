{
 "cells": [
  {
   "cell_type": "code",
   "execution_count": 1,
   "metadata": {
    "scrolled": true
   },
   "outputs": [
    {
     "name": "stdout",
     "output_type": "stream",
     "text": [
      "importing Jupyter notebook from Teacher_Interface.ipynb\n",
      "importing Jupyter notebook from Add_question.ipynb\n",
      "importing Jupyter notebook from Add_Answer.ipynb\n"
     ]
    }
   ],
   "source": [
    "from tkinter import *\n",
    "import import_ipynb\n",
    "import PyPDF2\n",
    "import Teacher_Interface\n",
    "import tkinter as tk\n",
    "import PIL\n",
    "from PIL import ImageTk\n",
    "from PIL import Image\n",
    "import datetime\n",
    "import sqlite3\n",
    "from tkinter import messagebox\n",
    "\n",
    "\n",
    "import mysql.connector\n",
    "\n",
    "\n",
    "mydb = mysql.connector.connect(\n",
    "  host=\"localhost\",\n",
    "  user=\"root\",\n",
    "  password=\"\",\n",
    "  database=\"data\"\n",
    ")\n",
    "mycursor = mydb.cursor()\n",
    "\n",
    "\n",
    "\n",
    "\n",
    "\n",
    "\n",
    "\n",
    "\n",
    "image = Image.open('Unity Loss.gif')\n",
    "image = image.resize((125, 100), Image.ANTIALIAS)\n",
    "\n",
    "class Take_Exam(Toplevel):\n",
    "    def __init__(self):\n",
    "        Toplevel.__init__(self)\n",
    "        \n",
    "        self.geometry(\"650x650+500+100\")\n",
    "        self.title(\"Exam\")\n",
    "        self.resizable(False,False)\n",
    "        \n",
    "        #Frames\n",
    "        self.top = Frame(self, height=150, bg='white')\n",
    "        self.top.pack(fill=X)\n",
    "        self.bottomFrame = Frame(self, height=600, bg='#57a0d3')\n",
    "        self.bottomFrame.pack(fill=X)\n",
    "        #Heading, image and date\n",
    "        self.top_image= ImageTk.PhotoImage(image)\n",
    "        self.top_image_lbl=tk.Label(self.top,image=self.top_image,bg='white')\n",
    "        self.top_image_lbl.place(x=120,y=10)\n",
    "        self.heading=Label(self.top,text='Exam',font='arial 15 bold',fg='black',bg='white')\n",
    "        \n",
    "        self.heading.place(x=330,y=60)\n",
    "        button=Button(self.bottomFrame,text=' Start Test ')\n",
    "        button.configure(command=lambda: self.StartE(button))\n",
    "        button.place(x=300,y=200)\n",
    "        \n",
    "    def StartE(self,button):\n",
    "        button.destroy()\n",
    "        \n",
    "        \n",
    "        \n",
    "def main():\n",
    "    root = Tk()\n",
    "    app = Take_Exam()\n",
    "    root.title(\"Unity Loss\")\n",
    "    root.geometry(\"650x550+350+200\")\n",
    "    root.resizable(False,False)\n",
    "    root.mainloop()\n",
    "if __name__ == '__main__':\n",
    "    main()"
   ]
  },
  {
   "cell_type": "code",
   "execution_count": null,
   "metadata": {},
   "outputs": [],
   "source": []
  }
 ],
 "metadata": {
  "kernelspec": {
   "display_name": "Python 3",
   "language": "python",
   "name": "python3"
  },
  "language_info": {
   "codemirror_mode": {
    "name": "ipython",
    "version": 3
   },
   "file_extension": ".py",
   "mimetype": "text/x-python",
   "name": "python",
   "nbconvert_exporter": "python",
   "pygments_lexer": "ipython3",
   "version": "3.6.13"
  }
 },
 "nbformat": 4,
 "nbformat_minor": 4
}
