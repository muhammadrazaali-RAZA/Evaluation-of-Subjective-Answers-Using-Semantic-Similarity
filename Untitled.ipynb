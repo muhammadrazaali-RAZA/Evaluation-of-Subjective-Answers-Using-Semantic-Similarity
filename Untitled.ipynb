{
 "cells": [
  {
   "cell_type": "code",
   "execution_count": 3,
   "metadata": {},
   "outputs": [
    {
     "name": "stdout",
     "output_type": "stream",
     "text": [
      "{'button 1', 'button 2', 'button 3'}\n",
      "You selected item 2: \"three\"\n",
      "You selected item 1: \"two\"\n",
      "You selected item 0: \"one\"\n"
     ]
    }
   ],
   "source": [
    "import tkinter\n",
    "from tkinter import *\n",
    "\n",
    "\n",
    "master = tkinter.Tk()\n",
    "master.geometry(\"750x500\")\n",
    "\n",
    "listbox = Listbox(master)\n",
    "listbox.place(x=3,y=0)\n",
    "\n",
    "\n",
    "for item in [\"one\", \"two\", \"three\", \"four\"]:\n",
    "    listbox.insert(END, item)\n",
    "\n",
    "enable = {'button 1','button 2', 'button 3'}\n",
    "\n",
    "def onselect(evt):\n",
    "    # Note here that Tkinter passes an event object to onselect()\n",
    "    w = evt.widget\n",
    "    \n",
    "    x=0\n",
    "    index = int(w.curselection()[0])\n",
    "    value = w.get(index)\n",
    "    print ('You selected item %d: \"%s\"' % (index, value))\n",
    "    for item in enable:\n",
    "        checkboxes = Checkbutton(master, text=item, variable=item)\n",
    "        checkboxes.place(x=300,y=0+x)\n",
    "        x+=50\n",
    "\n",
    "listbox.bind('<<ListboxSelect>>', onselect)\n",
    "\n",
    "print(enable)\n",
    "\n",
    "mainloop()"
   ]
  },
  {
   "cell_type": "code",
   "execution_count": null,
   "metadata": {},
   "outputs": [],
   "source": []
  }
 ],
 "metadata": {
  "kernelspec": {
   "display_name": "Python 3",
   "language": "python",
   "name": "python3"
  },
  "language_info": {
   "codemirror_mode": {
    "name": "ipython",
    "version": 3
   },
   "file_extension": ".py",
   "mimetype": "text/x-python",
   "name": "python",
   "nbconvert_exporter": "python",
   "pygments_lexer": "ipython3",
   "version": "3.8.5"
  }
 },
 "nbformat": 4,
 "nbformat_minor": 4
}
